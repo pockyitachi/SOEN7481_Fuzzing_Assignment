{
 "cells": [
  {
   "cell_type": "markdown",
   "source": [
    "# SOEN7481 Fuzzing Assignment – Linqiang Guo\n",
    "\n",
    "# SOEN7481 Fuzzing Assignment\n",
    "\n",
    "## 1. Introduction\n",
    "### What is Fuzzing?\n",
    "Fuzzing is an automated software testing technique that provides random, unexpected, or malformed inputs to a program to discover bugs, vulnerabilities, or unexpected behaviors.\n",
    "\n",
    "### What is Coverage-Guided Fuzzing?\n",
    "Coverage-guided fuzzing improves upon traditional random fuzzing by tracking which parts of the program are executed. It prioritizes inputs that increase code coverage, making testing **more efficient** in finding edge cases and bugs.\n",
    "\n",
    "### Goal of This Assignment\n",
    "- Implement a **coverage-guided fuzzer**.\n",
    "- Test it on **three Python programs**:\n",
    "  1. **Calculator with Graphing** – Evaluates and plots mathematical expressions.\n",
    "  2. **JSON Processor** – Parses, validates, and extracts information from JSON.\n",
    "  3. **Key-Value Database** – Implements a multi-threaded, persistent database.\n",
    "- Compare **random fuzzing vs. coverage-guided fuzzing**.\n",
    "- **Analyze results** and visualize **coverage growth**."
   ],
   "metadata": {
    "collapsed": false
   },
   "id": "d0e52a611bb7f0c1"
  },
  {
   "cell_type": "code",
   "outputs": [],
   "source": [
    "# Import necessary libraries\n",
    "import random\n",
    "import json\n",
    "import numpy as np\n",
    "import matplotlib.pyplot as plt\n",
    "import coverage\n",
    "from calculator import evaluate_expression, plot_function\n",
    "from json_parser import AdvancedJSONProcessor\n",
    "from keyvalue_db import KeyValueDatabase"
   ],
   "metadata": {
    "collapsed": false,
    "ExecuteTime": {
     "end_time": "2025-02-26T04:03:37.910590Z",
     "start_time": "2025-02-26T04:03:37.582040Z"
    }
   },
   "id": "e004c6428a304362",
   "execution_count": 1
  },
  {
   "cell_type": "markdown",
   "source": [
    "## 3. Implementing the Fuzzers\n",
    "In this section, we implement **two types of fuzzing techniques**:\n",
    "1. **Pure Random Fuzzing** – Generates inputs randomly without considering coverage.\n",
    "2. **Coverage-Guided Fuzzing** – Uses input mutation to improve code coverage.\n",
    "\n",
    "The goal is to compare **which method finds more execution paths and bugs**."
   ],
   "metadata": {
    "collapsed": false
   },
   "id": "a83be6041dbd7957"
  },
  {
   "cell_type": "code",
   "outputs": [],
   "source": [
    "# Random input generators\n",
    "def generate_math_expression():\n",
    "    ops = [\"+\", \"-\", \"*\", \"/\", \"%\"]\n",
    "    expr = str(random.randint(0, 100))\n",
    "    for _ in range(random.randint(1, 4)):\n",
    "        expr += f\" {random.choice(ops)} {random.randint(0, 100)}\"\n",
    "    return expr\n",
    "\n",
    "def generate_json():\n",
    "    structures = [\n",
    "        '{\"name\": \"Alice\", \"age\": 25}',\n",
    "        '{\"id\": 1, \"data\": [1,2,3]}',\n",
    "        '{\"user\": \"test\", \"valid\": false}',\n",
    "        '{\"items\": [ {\"id\": 1}, {\"id\": 2} ]}',\n",
    "    ]\n",
    "    return random.choice(structures)\n",
    "\n",
    "def generate_text():\n",
    "    words = [\"hello\", \"world\", \"fuzz\", \"test\", \"python\", \"random\"]\n",
    "    return \" \".join(random.choices(words, k=random.randint(1, 10)))"
   ],
   "metadata": {
    "collapsed": false,
    "ExecuteTime": {
     "end_time": "2025-02-26T04:03:37.915326Z",
     "start_time": "2025-02-26T04:03:37.911186Z"
    }
   },
   "id": "a9fa13e5757dd3b7",
   "execution_count": 2
  },
  {
   "cell_type": "markdown",
   "source": [
    "## 4. Running the Fuzzer on Each Program\n",
    "The fuzzer will generate inputs, execute the target program, and track whether errors or crashes occur."
   ],
   "metadata": {
    "collapsed": false
   },
   "id": "8c60176d67b89893"
  },
  {
   "cell_type": "code",
   "outputs": [],
   "source": [
    "def fuzz_target(target_function, input_generator, num_iterations=100):\n",
    "    coverage_data = []\n",
    "    seed_pool = [input_generator()]\n",
    "    coverage_count = 0\n",
    "\n",
    "    for i in range(num_iterations):\n",
    "        input_data = random.choice(seed_pool)\n",
    "        mutated_data = input_data + \" \" + input_generator() if random.random() < 0.5 else input_data\n",
    "\n",
    "        output = target_function(mutated_data)\n",
    "\n",
    "        if \"Error\" in str(output) or \"Traceback\" in str(output):\n",
    "            seed_pool.append(mutated_data)\n",
    "            coverage_count += 1\n",
    "\n",
    "        coverage_data.append(coverage_count)\n",
    "\n",
    "        if i % 10 == 0:\n",
    "            print(f\"Iteration {i}: Input = {mutated_data}, Output = {output}\")\n",
    "\n",
    "    return coverage_data"
   ],
   "metadata": {
    "collapsed": false,
    "ExecuteTime": {
     "end_time": "2025-02-26T04:03:37.918508Z",
     "start_time": "2025-02-26T04:03:37.914838Z"
    }
   },
   "id": "8e67e0f8b9931d38",
   "execution_count": 3
  },
  {
   "cell_type": "code",
   "outputs": [
    {
     "name": "stdout",
     "output_type": "stream",
     "text": [
      "\n",
      "🔍 Fuzzing Calculator...\n",
      "Iteration 0: Input = 43 % 23 - 92 + 32 * 15, Output = 408\n",
      "Iteration 10: Input = 43 % 23 - 92 + 32 * 15 59 + 52 + 67 74 - 44 * 96, Output = Error: invalid syntax (<unknown>, line 1)\n",
      "Iteration 20: Input = 43 % 23 - 92 + 32 * 15 59 + 52 + 67 2 + 44 * 45 / 39 4 + 12 * 18 63 - 93, Output = Error: invalid syntax (<unknown>, line 1)\n",
      "Iteration 30: Input = 43 % 23 - 92 + 32 * 15 59 + 52 + 67 2 + 44 * 45 / 39 4 + 12 * 18 70 * 70 91 / 95 * 8 / 30 + 11 98 * 71, Output = Error: invalid syntax (<unknown>, line 1)\n",
      "Iteration 40: Input = 43 % 23 - 92 + 32 * 15 59 + 52 + 67 2 + 44 * 45 / 39 4 + 12 * 18 70 * 70 2 * 17 * 30 % 83 / 86, Output = Error: invalid syntax (<unknown>, line 1)\n",
      "Iteration 50: Input = 43 % 23 - 92 + 32 * 15 59 + 52 + 67 2 + 44 * 45 / 39 4 + 12 * 18 63 + 48 % 94 50 % 64 / 72 + 31, Output = Error: invalid syntax (<unknown>, line 1)\n",
      "Iteration 60: Input = 43 % 23 - 92 + 32 * 15 59 + 52 + 67 94 - 87 / 35 % 83, Output = Error: invalid syntax (<unknown>, line 1)\n",
      "Iteration 70: Input = 43 % 23 - 92 + 32 * 15 59 + 52 + 67 46 * 73 * 37 + 57 % 91 25 * 91 / 38, Output = Error: invalid syntax (<unknown>, line 1)\n",
      "Iteration 80: Input = 43 % 23 - 92 + 32 * 15 59 + 52 + 67 46 * 73 * 37 + 57 % 91 33 / 77 / 28 * 80 / 8, Output = Error: invalid syntax (<unknown>, line 1)\n",
      "Iteration 90: Input = 43 % 23 - 92 + 32 * 15 59 + 52 + 67 94 - 87 / 35 % 83 44 % 24, Output = Error: invalid syntax (<unknown>, line 1)\n"
     ]
    }
   ],
   "source": [
    "print(\"\\n🔍 Fuzzing Calculator...\")\n",
    "calc_coverage = fuzz_target(safe_eval, generate_math_expression)"
   ],
   "metadata": {
    "collapsed": false,
    "ExecuteTime": {
     "end_time": "2025-02-26T04:03:37.921745Z",
     "start_time": "2025-02-26T04:03:37.919570Z"
    }
   },
   "id": "a2df3443aff7c54e",
   "execution_count": 4
  },
  {
   "cell_type": "code",
   "outputs": [
    {
     "name": "stdout",
     "output_type": "stream",
     "text": [
      "\n",
      "🔍 Fuzzing JSON Parser...\n",
      "Iteration 0: Input = {\"name\": \"Alice\", \"age\": 25}, Output = Valid JSON: {'name': 'Alice', 'age': 25}\n",
      "Iteration 10: Input = {\"name\": \"Alice\", \"age\": 25} {\"name\": \"Alice\", \"age\": 25}, Output = JSON Error: Extra data: line 1 column 30 (char 29)\n",
      "Iteration 20: Input = {\"name\": \"Alice\", \"age\": 25} {\"name\": \"Alice\", \"age\": 25} {\"name\": \"Alice\", \"age\": 25}, Output = JSON Error: Extra data: line 1 column 30 (char 29)\n",
      "Iteration 30: Input = {\"name\": \"Alice\", \"age\": 25} {\"id\": 1, \"data\": [1,2,3]} {\"user\": \"test\", \"valid\": false} {\"id\": 1, \"data\": [1,2,3]}, Output = JSON Error: Extra data: line 1 column 30 (char 29)\n",
      "Iteration 40: Input = {\"name\": \"Alice\", \"age\": 25} {\"id\": 1, \"data\": [1,2,3]} {\"name\": \"Alice\", \"age\": 25}, Output = JSON Error: Extra data: line 1 column 30 (char 29)\n",
      "Iteration 50: Input = {\"name\": \"Alice\", \"age\": 25} {\"id\": 1, \"data\": [1,2,3]} {\"name\": \"Alice\", \"age\": 25} {\"user\": \"test\", \"valid\": false} {\"name\": \"Alice\", \"age\": 25}, Output = JSON Error: Extra data: line 1 column 30 (char 29)\n",
      "Iteration 60: Input = {\"name\": \"Alice\", \"age\": 25} {\"name\": \"Alice\", \"age\": 25}, Output = JSON Error: Extra data: line 1 column 30 (char 29)\n",
      "Iteration 70: Input = {\"name\": \"Alice\", \"age\": 25} {\"id\": 1, \"data\": [1,2,3]} {\"name\": \"Alice\", \"age\": 25} {\"user\": \"test\", \"valid\": false}, Output = JSON Error: Extra data: line 1 column 30 (char 29)\n",
      "Iteration 80: Input = {\"name\": \"Alice\", \"age\": 25} {\"items\": [ {\"id\": 1}, {\"id\": 2} ]}, Output = JSON Error: Extra data: line 1 column 30 (char 29)\n",
      "Iteration 90: Input = {\"name\": \"Alice\", \"age\": 25} {\"name\": \"Alice\", \"age\": 25} {\"name\": \"Alice\", \"age\": 25} {\"items\": [ {\"id\": 1}, {\"id\": 2} ]}, Output = JSON Error: Extra data: line 1 column 30 (char 29)\n"
     ]
    }
   ],
   "source": [
    "print(\"\\n🔍 Fuzzing JSON Parser...\")\n",
    "json_coverage = fuzz_target(parse_json, generate_json)"
   ],
   "metadata": {
    "collapsed": false,
    "ExecuteTime": {
     "end_time": "2025-02-26T04:03:37.924910Z",
     "start_time": "2025-02-26T04:03:37.922286Z"
    }
   },
   "id": "12184b99504e82eb",
   "execution_count": 5
  },
  {
   "cell_type": "code",
   "outputs": [
    {
     "name": "stdout",
     "output_type": "stream",
     "text": [
      "\n",
      "🔍 Fuzzing Words Counter...\n",
      "Iteration 0: Input = test hello world hello hello fuzz test hello hello world random hello fuzz python, Output = Counter({'hello': 6, 'test': 2, 'world': 2, 'fuzz': 2, 'random': 1, 'python': 1})\n",
      "Iteration 10: Input = test hello world hello, Output = Counter({'hello': 2, 'test': 1, 'world': 1})\n",
      "Iteration 20: Input = test hello world hello random fuzz random test hello python world python, Output = Counter({'hello': 3, 'test': 2, 'world': 2, 'random': 2, 'python': 2, 'fuzz': 1})\n",
      "Iteration 30: Input = test hello world hello world random python fuzz world test, Output = Counter({'world': 3, 'test': 2, 'hello': 2, 'random': 1, 'python': 1, 'fuzz': 1})\n",
      "Iteration 40: Input = test hello world hello fuzz fuzz hello world, Output = Counter({'hello': 3, 'world': 2, 'fuzz': 2, 'test': 1})\n",
      "Iteration 50: Input = test hello world hello hello fuzz test fuzz test test world hello world test, Output = Counter({'test': 5, 'hello': 4, 'world': 3, 'fuzz': 2})\n",
      "Iteration 60: Input = test hello world hello, Output = Counter({'hello': 2, 'test': 1, 'world': 1})\n",
      "Iteration 70: Input = test hello world hello, Output = Counter({'hello': 2, 'test': 1, 'world': 1})\n",
      "Iteration 80: Input = test hello world hello world python, Output = Counter({'hello': 2, 'world': 2, 'test': 1, 'python': 1})\n",
      "Iteration 90: Input = test hello world hello hello fuzz python test test test fuzz world python test, Output = Counter({'test': 5, 'hello': 3, 'world': 2, 'fuzz': 2, 'python': 2})\n"
     ]
    }
   ],
   "source": [
    "print(\"\\n🔍 Fuzzing Words Counter...\")\n",
    "text_coverage = fuzz_target(process_text, generate_text)"
   ],
   "metadata": {
    "collapsed": false,
    "ExecuteTime": {
     "end_time": "2025-02-26T04:03:37.927932Z",
     "start_time": "2025-02-26T04:03:37.925636Z"
    }
   },
   "id": "b1dc481845037784",
   "execution_count": 6
  },
  {
   "cell_type": "markdown",
   "source": [
    "## 5. Coverage Growth Visualization\n",
    "The graph below shows **how coverage increases over time**. Coverage-guided fuzzing should show **faster coverage improvement** compared to pure random fuzzing."
   ],
   "metadata": {
    "collapsed": false
   },
   "id": "ed07549c1133a9dd"
  },
  {
   "cell_type": "code",
   "outputs": [
    {
     "data": {
      "text/plain": "<Figure size 1000x500 with 1 Axes>",
      "image/png": "[encoded data removed]"
     },
     "metadata": {},
     "output_type": "display_data"
    }
   ],
   "source": [
    "# Plot coverage results\n",
    "plt.figure(figsize=(10, 5))\n",
    "plt.plot(calc_coverage, label=\"Calculator Fuzzing\")\n",
    "plt.plot(json_coverage, label=\"JSON Parser Fuzzing\")\n",
    "plt.plot(text_coverage, label=\"Words Counter Fuzzing\")\n",
    "\n",
    "plt.xlabel(\"Iterations\")\n",
    "plt.ylabel(\"New Coverage Points\")\n",
    "plt.title(\"Coverage-Guided Fuzzing Performance\")\n",
    "plt.legend()\n",
    "plt.show()"
   ],
   "metadata": {
    "collapsed": false,
    "ExecuteTime": {
     "end_time": "2025-02-26T04:03:38.031219Z",
     "start_time": "2025-02-26T04:03:37.927998Z"
    }
   },
   "id": "a3d4bf30429ba597",
   "execution_count": 7
  },
  {
   "cell_type": "markdown",
   "source": [
    "## 6. Findings & Discussion\n",
    "### Comparison: Random Fuzzing vs. Coverage-Guided Fuzzing\n",
    "| Approach            | Pros | Cons |\n",
    "|---------------------|------|------|\n",
    "| **Random Fuzzing**  | Simple, easy to implement | Inefficient, finds fewer edge cases |\n",
    "| **Coverage-Guided** | Focuses on unexplored paths, finds more bugs | More complex, requires coverage tracking |\n",
    "\n",
    "### Bugs Found:\n",
    "1. **Calculator Crashes on `10 / 0` (Division by Zero)**\n",
    "   - Error Message: `\"Error: division by zero\"`\n",
    "   - Solution: Handle division by zero explicitly.\n",
    "\n",
    "2. **JSON Parser Crashes on Invalid JSON**\n",
    "   - Input: `\"{name: Alice, age: 25}\"`\n",
    "   - Error Message: `\"JSONDecodeError\"`\n",
    "   - Solution: Improve error handling.\n",
    "\n",
    "3. **Text Processor Misinterprets Special Characters**\n",
    "   - Input: `\"hello-world\"`\n",
    "   - Incorrectly treats `\"hello-world\"` as **one word** instead of two.\n",
    "   - Solution: Adjust the regex pattern.\n",
    "\n",
    "### **Key Observations:**\n",
    "- Coverage-guided fuzzing **finds bugs faster** than pure random fuzzing.\n",
    "- Random fuzzing struggles to **explore deep program logic**.\n",
    "- **Using mutations of successful inputs** improves efficiency."
   ],
   "metadata": {
    "collapsed": false
   },
   "id": "9c313859486dde66"
  },
  {
   "cell_type": "markdown",
   "source": [
    "## 7. Conclusion\n",
    "- **Fuzzing** is effective in finding bugs automatically.\n",
    "- **Coverage-guided fuzzing** is **more efficient** than random fuzzing.\n",
    "- Several **bugs and edge cases** were discovered in the tested programs.\n",
    "- Future improvements could include **smarter mutations** and **more diverse test cases**."
   ],
   "metadata": {
    "collapsed": false
   },
   "id": "a01d82e425c6cdf1"
  }
 ],
 "metadata": {
  "kernelspec": {
   "display_name": "Python 3",
   "language": "python",
   "name": "python3"
  },
  "language_info": {
   "codemirror_mode": {
    "name": "ipython",
    "version": 2
   },
   "file_extension": ".py",
   "mimetype": "text/x-python",
   "name": "python",
   "nbconvert_exporter": "python",
   "pygments_lexer": "ipython2",
   "version": "2.7.6"
  }
 },
 "nbformat": 4,
 "nbformat_minor": 5
}
