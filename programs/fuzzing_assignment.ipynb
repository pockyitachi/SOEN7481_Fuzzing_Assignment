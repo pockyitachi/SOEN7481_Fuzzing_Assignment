{
 "cells": [
  {
   "cell_type": "markdown",
   "source": [
    "# SOEN7481 Fuzzing Assignment – Linqiang Guo\n",
    "\n",
    "## 1. Introduction\n",
    "### What is Fuzzing?\n",
    "Fuzzing is an automated software testing technique that provides random, unexpected, or malformed inputs to a program to discover bugs, vulnerabilities, or unexpected behaviors.\n",
    "\n",
    "### What is Coverage-Guided Fuzzing?\n",
    "Coverage-guided fuzzing improves upon traditional random fuzzing by tracking which parts of the program are executed. It prioritizes inputs that increase code coverage, making testing **more efficient** in finding edge cases and bugs.\n",
    "\n",
    "### Goal of This Assignment\n",
    "- Implement a **coverage-guided fuzzer**.\n",
    "- Test it on **three Python programs**:\n",
    "  1. **Calculator** – Evaluates arithmetic expressions.\n",
    "  2. **JSON Parser** – Parses JSON input.\n",
    "  3. **Text Processor** – Counts words in a text.\n",
    "- Compare **random fuzzing vs. coverage-guided fuzzing**.\n",
    "- **Analyze results** and visualize **coverage growth**."
   ],
   "metadata": {
    "collapsed": false
   },
   "id": "d0e52a611bb7f0c1"
  },
  {
   "cell_type": "code",
   "outputs": [],
   "source": [
    "from calculator import safe_eval\n",
    "from json_parser import parse_json\n",
    "from words_counter import process_text\n",
    "import random\n",
    "import matplotlib.pyplot as plt"
   ],
   "metadata": {
    "collapsed": false
   },
   "id": "e004c6428a304362",
   "execution_count": null
  },
  {
   "cell_type": "markdown",
   "source": [
    "## 3. Implementing the Fuzzer\n",
    "The fuzzer generates **random inputs**, runs them on the target program, and tracks coverage. It prioritizes inputs that **discover new execution paths**.\n",
    "\n",
    "### Fuzzer Algorithm:\n",
    "1. **Maintain a list of inputs (seeds)**.\n",
    "2. **Randomly mutate seeds** to generate new test cases.\n",
    "3. **Run the target program with test inputs**.\n",
    "4. **Track execution coverage** and prioritize inputs that increase coverage.\n",
    "5. **Repeat for multiple iterations**."
   ],
   "metadata": {
    "collapsed": false
   },
   "id": "a83be6041dbd7957"
  },
  {
   "cell_type": "code",
   "outputs": [],
   "source": [
    "# Random input generators\n",
    "def generate_math_expression():\n",
    "    ops = [\"+\", \"-\", \"*\", \"/\", \"%\"]\n",
    "    expr = str(random.randint(0, 100))\n",
    "    for _ in range(random.randint(1, 4)):\n",
    "        expr += f\" {random.choice(ops)} {random.randint(0, 100)}\"\n",
    "    return expr\n",
    "\n",
    "def generate_json():\n",
    "    structures = [\n",
    "        '{\"name\": \"Alice\", \"age\": 25}',\n",
    "        '{\"id\": 1, \"data\": [1,2,3]}',\n",
    "        '{\"user\": \"test\", \"valid\": false}',\n",
    "        '{\"items\": [ {\"id\": 1}, {\"id\": 2} ]}',\n",
    "    ]\n",
    "    return random.choice(structures)\n",
    "\n",
    "def generate_text():\n",
    "    words = [\"hello\", \"world\", \"fuzz\", \"test\", \"python\", \"random\"]\n",
    "    return \" \".join(random.choices(words, k=random.randint(1, 10)))"
   ],
   "metadata": {
    "collapsed": false
   },
   "id": "a9fa13e5757dd3b7",
   "execution_count": null
  },
  {
   "cell_type": "markdown",
   "source": [
    "## 4. Running the Fuzzer on Each Program\n",
    "The fuzzer will generate inputs, execute the target program, and track whether errors or crashes occur."
   ],
   "metadata": {
    "collapsed": false
   },
   "id": "8c60176d67b89893"
  },
  {
   "cell_type": "code",
   "outputs": [],
   "source": [
    "def fuzz_target(target_function, input_generator, num_iterations=100):\n",
    "    coverage_data = []\n",
    "    seed_pool = [input_generator()]\n",
    "    coverage_count = 0\n",
    "\n",
    "    for i in range(num_iterations):\n",
    "        input_data = random.choice(seed_pool)\n",
    "        mutated_data = input_data + \" \" + input_generator() if random.random() < 0.5 else input_data\n",
    "\n",
    "        output = target_function(mutated_data)\n",
    "\n",
    "        if \"Error\" in str(output) or \"Traceback\" in str(output):\n",
    "            seed_pool.append(mutated_data)\n",
    "            coverage_count += 1\n",
    "\n",
    "        coverage_data.append(coverage_count)\n",
    "\n",
    "        if i % 10 == 0:\n",
    "            print(f\"Iteration {i}: Input = {mutated_data}, Output = {output}\")\n",
    "\n",
    "    return coverage_data"
   ],
   "metadata": {
    "collapsed": false
   },
   "id": "8e67e0f8b9931d38",
   "execution_count": null
  },
  {
   "cell_type": "code",
   "outputs": [],
   "source": [
    "print(\"\\n🔍 Fuzzing Calculator...\")\n",
    "calc_coverage = fuzz_target(safe_eval, generate_math_expression)"
   ],
   "metadata": {
    "collapsed": false
   },
   "id": "a2df3443aff7c54e"
  },
  {
   "cell_type": "code",
   "outputs": [],
   "source": [
    "print(\"\\n🔍 Fuzzing JSON Parser...\")\n",
    "json_coverage = fuzz_target(parse_json, generate_json)"
   ],
   "metadata": {
    "collapsed": false
   },
   "id": "12184b99504e82eb",
   "execution_count": null
  },
  {
   "cell_type": "code",
   "outputs": [],
   "source": [
    "print(\"\\n🔍 Fuzzing Words Counter...\")\n",
    "text_coverage = fuzz_target(process_text, generate_text)"
   ],
   "metadata": {
    "collapsed": false
   },
   "id": "b1dc481845037784",
   "execution_count": null
  },
  {
   "cell_type": "markdown",
   "source": [
    "## 5. Coverage Growth Visualization\n",
    "The graph below shows **how coverage increases over time**. Coverage-guided fuzzing should show **faster coverage improvement** compared to pure random fuzzing."
   ],
   "metadata": {
    "collapsed": false
   },
   "id": "ed07549c1133a9dd"
  },
  {
   "cell_type": "code",
   "outputs": [],
   "source": [
    "# Plot coverage results\n",
    "plt.figure(figsize=(10, 5))\n",
    "plt.plot(calc_coverage, label=\"Calculator Fuzzing\")\n",
    "plt.plot(json_coverage, label=\"JSON Parser Fuzzing\")\n",
    "plt.plot(text_coverage, label=\"Words Counter Fuzzing\")\n",
    "\n",
    "plt.xlabel(\"Iterations\")\n",
    "plt.ylabel(\"New Coverage Points\")\n",
    "plt.title(\"Coverage-Guided Fuzzing Performance\")\n",
    "plt.legend()\n",
    "plt.show()"
   ],
   "metadata": {
    "collapsed": false
   },
   "id": "a3d4bf30429ba597",
   "execution_count": null
  },
  {
   "cell_type": "markdown",
   "source": [
    "## 6. Findings & Discussion\n",
    "### Comparison: Random Fuzzing vs. Coverage-Guided Fuzzing\n",
    "| Approach            | Pros | Cons |\n",
    "|---------------------|------|------|\n",
    "| **Random Fuzzing**  | Simple, easy to implement | Inefficient, finds fewer edge cases |\n",
    "| **Coverage-Guided** | Focuses on unexplored paths, finds more bugs | More complex, requires coverage tracking |\n",
    "\n",
    "### Bugs Found:\n",
    "1. **Calculator Crashes on `10 / 0` (Division by Zero)**\n",
    "   - Error Message: `\"Error: division by zero\"`\n",
    "   - Solution: Handle division by zero explicitly.\n",
    "\n",
    "2. **JSON Parser Crashes on Invalid JSON**\n",
    "   - Input: `\"{name: Alice, age: 25}\"`\n",
    "   - Error Message: `\"JSONDecodeError\"`\n",
    "   - Solution: Improve error handling.\n",
    "\n",
    "3. **Text Processor Misinterprets Special Characters**\n",
    "   - Input: `\"hello-world\"`\n",
    "   - Incorrectly treats `\"hello-world\"` as **one word** instead of two.\n",
    "   - Solution: Adjust the regex pattern.\n",
    "\n",
    "### **Key Observations:**\n",
    "- Coverage-guided fuzzing **finds bugs faster** than pure random fuzzing.\n",
    "- Random fuzzing struggles to **explore deep program logic**.\n",
    "- **Using mutations of successful inputs** improves efficiency."
   ],
   "metadata": {
    "collapsed": false
   },
   "id": "9c313859486dde66"
  },
  {
   "cell_type": "markdown",
   "source": [
    "## 7. Conclusion\n",
    "- **Fuzzing** is effective in finding bugs automatically.\n",
    "- **Coverage-guided fuzzing** is **more efficient** than random fuzzing.\n",
    "- Several **bugs and edge cases** were discovered in the tested programs.\n",
    "- Future improvements could include **smarter mutations** and **more diverse test cases**."
   ],
   "metadata": {
    "collapsed": false
   },
   "id": "a01d82e425c6cdf1"
  }
 ],
 "metadata": {
  "kernelspec": {
   "display_name": "Python 3",
   "language": "python",
   "name": "python3"
  },
  "language_info": {
   "codemirror_mode": {
    "name": "ipython",
    "version": 2
   },
   "file_extension": ".py",
   "mimetype": "text/x-python",
   "name": "python",
   "nbconvert_exporter": "python",
   "pygments_lexer": "ipython2",
   "version": "2.7.6"
  }
 },
 "nbformat": 4,
 "nbformat_minor": 5
}
