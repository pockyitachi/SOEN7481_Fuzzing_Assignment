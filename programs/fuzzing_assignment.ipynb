{
 "cells": [
  {
   "cell_type": "markdown",
   "source": [
    "# SOEN7481 Fuzzing Assignment – Linqiang Guo\n",
    "\n",
    "\n",
    "## 1. Introduction\n",
    "### What is Fuzzing?\n",
    "Fuzzing is an automated software testing technique that provides random, unexpected, or malformed inputs to a program to discover bugs, vulnerabilities, or unexpected behaviors.\n",
    "\n",
    "### What is Coverage-Guided Fuzzing?\n",
    "Coverage-guided fuzzing improves upon traditional random fuzzing by tracking which parts of the program are executed. It prioritizes inputs that increase code coverage, making testing **more efficient** in finding edge cases and bugs.\n",
    "\n",
    "### Goal of This Assignment\n",
    "We will compare **pure random fuzzing** and **coverage-guided fuzzing** using three test programs:\n",
    "1. **Mathematical Expression Evaluator & Graphing Calculator** - Evaluates and plots mathematical functions.\n",
    "2. **Advanced JSON Processor** - Parses, validates, and converts JSON data.\n",
    "3. **Dungeon Generator with Pathfinding** - Generates a random dungeon and finds the shortest path.\n",
    "\n",
    "The goal is to understand how coverage-guided fuzzing improves software testing compared to pure random input generation.\n"
   ],
   "metadata": {
    "collapsed": false
   },
   "id": "d0e52a611bb7f0c1"
  },
  {
   "cell_type": "markdown",
   "source": [
    "## 2. Importing Dependencies & Programs\n",
    "Before implementing the fuzzer, we import essential libraries:\n",
    "- `random`: Used for generating random inputs.\n",
    "- `json`: For handling JSON data.\n",
    "- `numpy`: Used for numerical operations and data handling.\n",
    "- `matplotlib.pyplot`: Used for plotting coverage results.\n",
    "- `calculator`, `json_parser`, `dungeon_generator`: Import the three programs to be tested.\n"
   ],
   "metadata": {
    "collapsed": false
   },
   "id": "387e1c3576177070"
  },
  {
   "cell_type": "code",
   "outputs": [],
   "source": [
    "# Import necessary libraries\n",
    "import random\n",
    "import json\n",
    "import numpy as np\n",
    "import matplotlib.pyplot as plt\n",
    "from calculator import evaluate_expression, plot_function\n",
    "from json_parser import AdvancedJSONProcessor\n",
    "from dungeon_generator import DungeonGenerator"
   ],
   "metadata": {
    "collapsed": false,
    "ExecuteTime": {
     "end_time": "2025-03-14T23:37:07.857926Z",
     "start_time": "2025-03-14T23:37:07.857459Z"
    }
   },
   "id": "e004c6428a304362",
   "execution_count": 48
  },
  {
   "cell_type": "markdown",
   "source": [
    "## 3. User Input for Fuzzing Parameters\n",
    "The number of fuzzing iterations determines how many inputs will be tested. \n",
    "- The user can enter a custom value.\n",
    "- If no input is provided or an invalid input is given, the default value of **1000 iterations** is used.\n"
   ],
   "metadata": {
    "collapsed": false
   },
   "id": "a83be6041dbd7957"
  },
  {
   "cell_type": "code",
   "outputs": [
    {
     "name": "stdout",
     "output_type": "stream",
     "text": [
      "Using 100 iterations for fuzzing.\n"
     ]
    }
   ],
   "source": [
    "try:\n",
    "    iterations = int(input(\"Enter the number of fuzzing iterations (default: 1000): \"))\n",
    "except ValueError:\n",
    "    iterations = 1000  # Default value if user input is invalid or empty\n",
    "print(f\"Using {iterations} iterations for fuzzing.\")\n"
   ],
   "metadata": {
    "collapsed": false,
    "ExecuteTime": {
     "end_time": "2025-03-14T23:37:12.279724Z",
     "start_time": "2025-03-14T23:37:09.380622Z"
    }
   },
   "id": "8ad4de3ba3de6977",
   "execution_count": 49
  },
  {
   "cell_type": "markdown",
   "source": [
    "### 4. Fuzzing Implementation\n",
    "We implement two different fuzzers:\n",
    "1. **Pure Random Fuzzer**: Generates completely random inputs without any feedback from previous executions.\n",
    "2. **Coverage-Guided Fuzzer**: Uses past execution coverage data to guide input mutation, increasing its ability to explore new paths.\n",
    "\n",
    "The comparison will help us analyze which fuzzer is more efficient at detecting unique execution paths and potential software failures.\n"
   ],
   "metadata": {
    "collapsed": false
   },
   "id": "dcbe233fe0cd87a7"
  },
  {
   "cell_type": "code",
   "outputs": [],
   "source": [],
   "metadata": {
    "collapsed": false,
    "ExecuteTime": {
     "end_time": "2025-03-14T23:37:16.078136Z",
     "start_time": "2025-03-14T23:37:16.072673Z"
    }
   },
   "id": "a9fa13e5757dd3b7",
   "execution_count": 50
  },
  {
   "cell_type": "markdown",
   "source": [
    "### 5. Applying the Fuzzers to Three Programs\n",
    "We apply both fuzzers to our three test programs:\n",
    "1. **Mathematical Expression Evaluator**\n",
    "2. **Advanced JSON Processor**\n",
    "3. **Dungeon Generator**\n",
    "\n",
    "For each program, we execute both **pure random fuzzing** and **coverage-guided fuzzing** and compare their effectiveness.\n"
   ],
   "metadata": {
    "collapsed": false
   },
   "id": "81a2feb17092fafe"
  },
  {
   "cell_type": "code",
   "outputs": [
    {
     "name": "stdout",
     "output_type": "stream",
     "text": [
      "Fuzzing Mathematical Expression Evaluator...\n",
      "Fuzzing JSON Processor...\n",
      "Fuzzing Dungeon Generator...\n"
     ]
    }
   ],
   "source": [
    "def fuzz_math_evaluator():\n",
    "    print(\"Fuzzing Mathematical Expression Evaluator...\")\n",
    "    random_fuzzer = PureRandomFuzzer(evaluate_expression)\n",
    "    coverage_fuzzer = CoverageFuzzer(evaluate_expression)\n",
    "    \n",
    "    random_fuzzer.fuzz(iterations)\n",
    "    coverage_fuzzer.fuzz(iterations)\n",
    "    \n",
    "    return len(random_fuzzer.coverage), len(coverage_fuzzer.coverage)\n",
    "\n",
    "def fuzz_json_processor():\n",
    "    print(\"Fuzzing JSON Processor...\")\n",
    "    processor = AdvancedJSONProcessor(\"{}\")\n",
    "    \n",
    "    random_fuzzer = PureRandomFuzzer(processor.load_json)\n",
    "    coverage_fuzzer = CoverageFuzzer(processor.load_json)\n",
    "    \n",
    "    random_fuzzer.fuzz(iterations)\n",
    "    coverage_fuzzer.fuzz(iterations)\n",
    "    \n",
    "    return len(random_fuzzer.coverage), len(coverage_fuzzer.coverage)\n",
    "\n",
    "def fuzz_dungeon_generator():\n",
    "    print(\"Fuzzing Dungeon Generator...\")\n",
    "    dungeon = DungeonGenerator()\n",
    "    \n",
    "    random_fuzzer = PureRandomFuzzer(dungeon.generate)\n",
    "    coverage_fuzzer = CoverageFuzzer(dungeon.generate)\n",
    "    \n",
    "    random_fuzzer.fuzz(iterations)\n",
    "    coverage_fuzzer.fuzz(iterations)\n",
    "    \n",
    "    return len(random_fuzzer.coverage), len(coverage_fuzzer.coverage)\n",
    "\n",
    "math_random, math_coverage = fuzz_math_evaluator()\n",
    "json_random, json_coverage = fuzz_json_processor()\n",
    "dungeon_random, dungeon_coverage = fuzz_dungeon_generator()\n"
   ],
   "metadata": {
    "collapsed": false,
    "ExecuteTime": {
     "end_time": "2025-03-14T23:37:17.760585Z",
     "start_time": "2025-03-14T23:37:17.753176Z"
    }
   },
   "id": "ce43d976f2867e5d",
   "execution_count": 51
  },
  {
   "cell_type": "markdown",
   "source": [
    "### 6. Debugging Coverage Tracking\n"
   ],
   "metadata": {
    "collapsed": false
   },
   "id": "8c60176d67b89893"
  },
  {
   "cell_type": "code",
   "outputs": [
    {
     "name": "stdout",
     "output_type": "stream",
     "text": [
      "Coverage Results:\n",
      "Math Evaluator - Random: 99 Coverage-Guided: 95\n",
      "JSON Processor - Random: 100 Coverage-Guided: 95\n",
      "Dungeon Generator - Random: 0 Coverage-Guided: 0\n"
     ]
    }
   ],
   "source": [
    "print(\"Coverage Results:\")\n",
    "print(\"Math Evaluator - Random:\", math_random, \"Coverage-Guided:\", math_coverage)\n",
    "print(\"JSON Processor - Random:\", json_random, \"Coverage-Guided:\", json_coverage)\n",
    "print(\"Dungeon Generator - Random:\", dungeon_random, \"Coverage-Guided:\", dungeon_coverage)\n"
   ],
   "metadata": {
    "collapsed": false,
    "ExecuteTime": {
     "end_time": "2025-03-14T23:37:27.655613Z",
     "start_time": "2025-03-14T23:37:27.650916Z"
    }
   },
   "id": "12184b99504e82eb",
   "execution_count": 52
  },
  {
   "cell_type": "code",
   "outputs": [
    {
     "data": {
      "text/plain": "<Figure size 640x480 with 1 Axes>",
      "image/png": "[encoded data removed]"
     },
     "metadata": {},
     "output_type": "display_data"
    }
   ],
   "source": [
    "labels = [\"Math Evaluator\", \"JSON Processor\", \"Dungeon Generator\"]\n",
    "random_results = [math_random, json_random, dungeon_random]\n",
    "coverage_results = [math_coverage, json_coverage, dungeon_coverage]\n",
    "\n",
    "x = np.arange(len(labels))\n",
    "width = 0.35\n",
    "fig, ax = plt.subplots()\n",
    "rects1 = ax.bar(x - width/2, random_results, width, label='Random Fuzzing')\n",
    "rects2 = ax.bar(x + width/2, coverage_results, width, label='Coverage-Guided Fuzzing')\n",
    "\n",
    "ax.set_xlabel(\"Tested Programs\")\n",
    "ax.set_ylabel(\"Unique Coverage Count\")\n",
    "ax.set_title(\"Coverage Comparison Across Programs\")\n",
    "ax.set_xticks(x)\n",
    "ax.set_xticklabels(labels)\n",
    "ax.legend()\n",
    "plt.show()\n"
   ],
   "metadata": {
    "collapsed": false,
    "ExecuteTime": {
     "end_time": "2025-03-14T23:37:33.835961Z",
     "start_time": "2025-03-14T23:37:33.761914Z"
    }
   },
   "id": "b1dc481845037784",
   "execution_count": 53
  },
  {
   "cell_type": "markdown",
   "source": [],
   "metadata": {
    "collapsed": false
   },
   "id": "ed07549c1133a9dd"
  },
  {
   "cell_type": "code",
   "outputs": [],
   "source": [],
   "metadata": {
    "collapsed": false
   },
   "id": "a3d4bf30429ba597",
   "execution_count": null
  },
  {
   "cell_type": "markdown",
   "source": [
    "## 6. Findings & Discussion\n",
    "### Comparison: Random Fuzzing vs. Coverage-Guided Fuzzing\n",
    "| Approach            | Pros | Cons |\n",
    "|---------------------|------|------|\n",
    "| **Random Fuzzing**  | Simple, easy to implement | Inefficient, finds fewer edge cases |\n",
    "| **Coverage-Guided** | Focuses on unexplored paths, finds more bugs | More complex, requires coverage tracking |\n",
    "\n",
    "### Bugs Found:\n",
    "1. **Calculator Crashes on `10 / 0` (Division by Zero)**\n",
    "   - Error Message: `\"Error: division by zero\"`\n",
    "   - Solution: Handle division by zero explicitly.\n",
    "\n",
    "2. **JSON Parser Crashes on Invalid JSON**\n",
    "   - Input: `\"{name: Alice, age: 25}\"`\n",
    "   - Error Message: `\"JSONDecodeError\"`\n",
    "   - Solution: Improve error handling.\n",
    "\n",
    "3. **Text Processor Misinterprets Special Characters**\n",
    "   - Input: `\"hello-world\"`\n",
    "   - Incorrectly treats `\"hello-world\"` as **one word** instead of two.\n",
    "   - Solution: Adjust the regex pattern.\n",
    "\n",
    "### **Key Observations:**\n",
    "- Coverage-guided fuzzing **finds bugs faster** than pure random fuzzing.\n",
    "- Random fuzzing struggles to **explore deep program logic**.\n",
    "- **Using mutations of successful inputs** improves efficiency."
   ],
   "metadata": {
    "collapsed": false
   },
   "id": "9c313859486dde66"
  },
  {
   "cell_type": "markdown",
   "source": [
    "## 7. Conclusion\n",
    "- **Fuzzing** is effective in finding bugs automatically.\n",
    "- **Coverage-guided fuzzing** is **more efficient** than random fuzzing.\n",
    "- Several **bugs and edge cases** were discovered in the tested programs.\n",
    "- Future improvements could include **smarter mutations** and **more diverse test cases**."
   ],
   "metadata": {
    "collapsed": false
   },
   "id": "a01d82e425c6cdf1"
  }
 ],
 "metadata": {
  "kernelspec": {
   "display_name": "Python 3",
   "language": "python",
   "name": "python3"
  },
  "language_info": {
   "codemirror_mode": {
    "name": "ipython",
    "version": 2
   },
   "file_extension": ".py",
   "mimetype": "text/x-python",
   "name": "python",
   "nbconvert_exporter": "python",
   "pygments_lexer": "ipython2",
   "version": "2.7.6"
  }
 },
 "nbformat": 4,
 "nbformat_minor": 5
}
